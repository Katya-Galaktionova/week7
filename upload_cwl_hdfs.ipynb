{
 "cells": [
  {
   "cell_type": "code",
   "execution_count": 1,
   "metadata": {},
   "outputs": [],
   "source": [
    "from hdfs import InsecureClient"
   ]
  },
  {
   "cell_type": "code",
   "execution_count": 2,
   "metadata": {},
   "outputs": [],
   "source": [
    "client = InsecureClient('http://namenode:50070', user='vagrant')"
   ]
  },
  {
   "cell_type": "code",
   "execution_count": 3,
   "metadata": {},
   "outputs": [
    {
     "data": {
      "text/plain": [
       "['mydf.csv', 'structured-2018-01-14-neworleans']"
      ]
     },
     "execution_count": 3,
     "metadata": {},
     "output_type": "execute_result"
    }
   ],
   "source": [
    "client.list('/Users/vagrant')"
   ]
  },
  {
   "cell_type": "code",
   "execution_count": 4,
   "metadata": {},
   "outputs": [],
   "source": [
    "import os\n",
    "\n",
    "datadir = os.path.join('./')\n"
   ]
  },
  {
   "cell_type": "code",
   "execution_count": 21,
   "metadata": {},
   "outputs": [],
   "source": [
    "localpath = os.path.join(datadir, 'structured-2018-01-14-neworleans')\n",
    "\n",
    "hdfspath = '/Users/vagrant/structured-2018-01-14-neworleans'"
   ]
  },
  {
   "cell_type": "code",
   "execution_count": 22,
   "metadata": {},
   "outputs": [
    {
     "data": {
      "text/plain": [
       "'/Users/vagrant/structured-2018-01-14-neworleans'"
      ]
     },
     "execution_count": 22,
     "metadata": {},
     "output_type": "execute_result"
    }
   ],
   "source": [
    "client.upload(hdfspath, localpath)"
   ]
  },
  {
   "cell_type": "code",
   "execution_count": 23,
   "metadata": {},
   "outputs": [
    {
     "data": {
      "text/plain": [
       "['mydf.csv', 'structured-2018-01-14-neworleans']"
      ]
     },
     "execution_count": 23,
     "metadata": {},
     "output_type": "execute_result"
    }
   ],
   "source": [
    "client.list('/Users/vagrant')"
   ]
  },
  {
   "cell_type": "code",
   "execution_count": 5,
   "metadata": {},
   "outputs": [
    {
     "data": {
      "text/plain": [
       "['mydf.csv',\n",
       " 'structured-2018-01-14-neworleans',\n",
       " 'structured-2018-03-11-atlanta']"
      ]
     },
     "execution_count": 5,
     "metadata": {},
     "output_type": "execute_result"
    }
   ],
   "source": [
    "localpath = os.path.join(datadir, 'structured-2018-03-11-atlanta')\n",
    "\n",
    "hdfspath = '/Users/vagrant/structured-2018-03-11-atlanta'\n",
    "\n",
    "client.upload(hdfspath, localpath)\n",
    "\n",
    "client.list('/Users/vagrant')"
   ]
  },
  {
   "cell_type": "code",
   "execution_count": 6,
   "metadata": {},
   "outputs": [
    {
     "data": {
      "text/plain": [
       "['mydf.csv',\n",
       " 'structured-2018-01-14-neworleans',\n",
       " 'structured-2018-03-11-atlanta',\n",
       " 'structured-2018-04-01-birmingham']"
      ]
     },
     "execution_count": 6,
     "metadata": {},
     "output_type": "execute_result"
    }
   ],
   "source": [
    "localpath = os.path.join(datadir, 'structured-2018-04-01-birmingham')\n",
    "\n",
    "hdfspath = '/Users/vagrant/structured-2018-04-01-birmingham'\n",
    "\n",
    "client.upload(hdfspath, localpath)\n",
    "\n",
    "client.list('/Users/vagrant')"
   ]
  },
  {
   "cell_type": "code",
   "execution_count": 7,
   "metadata": {},
   "outputs": [
    {
     "data": {
      "text/plain": [
       "['mydf.csv',\n",
       " 'structured-2018-01-14-neworleans',\n",
       " 'structured-2018-03-11-atlanta',\n",
       " 'structured-2018-04-01-birmingham',\n",
       " 'structured-2018-04-08-proleague1']"
      ]
     },
     "execution_count": 7,
     "metadata": {},
     "output_type": "execute_result"
    }
   ],
   "source": [
    "localpath = os.path.join(datadir, 'structured-2018-04-08-proleague1')\n",
    "\n",
    "hdfspath = '/Users/vagrant/structured-2018-04-08-proleague1'\n",
    "\n",
    "client.upload(hdfspath, localpath)\n",
    "\n",
    "client.list('/Users/vagrant')"
   ]
  },
  {
   "cell_type": "code",
   "execution_count": 8,
   "metadata": {},
   "outputs": [
    {
     "data": {
      "text/plain": [
       "['mydf.csv',\n",
       " 'structured-2018-01-14-neworleans',\n",
       " 'structured-2018-03-11-atlanta',\n",
       " 'structured-2018-04-01-birmingham',\n",
       " 'structured-2018-04-08-proleague1',\n",
       " 'structured-2018-04-19-relegation']"
      ]
     },
     "execution_count": 8,
     "metadata": {},
     "output_type": "execute_result"
    }
   ],
   "source": [
    "localpath = os.path.join(datadir, 'structured-2018-04-19-relegation')\n",
    "\n",
    "hdfspath = '/Users/vagrant/structured-2018-04-19-relegation'\n",
    "\n",
    "client.upload(hdfspath, localpath)\n",
    "\n",
    "client.list('/Users/vagrant')"
   ]
  },
  {
   "cell_type": "code",
   "execution_count": 9,
   "metadata": {},
   "outputs": [
    {
     "data": {
      "text/plain": [
       "['mydf.csv',\n",
       " 'structured-2018-01-14-neworleans',\n",
       " 'structured-2018-03-11-atlanta',\n",
       " 'structured-2018-04-01-birmingham',\n",
       " 'structured-2018-04-08-proleague1',\n",
       " 'structured-2018-04-19-relegation',\n",
       " 'structured-2018-04-22-seattle']"
      ]
     },
     "execution_count": 9,
     "metadata": {},
     "output_type": "execute_result"
    }
   ],
   "source": [
    "localpath = os.path.join(datadir, 'structured-2018-04-22-seattle')\n",
    "\n",
    "hdfspath = '/Users/vagrant/structured-2018-04-22-seattle'\n",
    "\n",
    "client.upload(hdfspath, localpath)\n",
    "\n",
    "client.list('/Users/vagrant')"
   ]
  },
  {
   "cell_type": "code",
   "execution_count": 10,
   "metadata": {},
   "outputs": [
    {
     "data": {
      "text/plain": [
       "['mydf.csv',\n",
       " 'structured-2018-01-14-neworleans',\n",
       " 'structured-2018-03-11-atlanta',\n",
       " 'structured-2018-04-01-birmingham',\n",
       " 'structured-2018-04-08-proleague1',\n",
       " 'structured-2018-04-19-relegation',\n",
       " 'structured-2018-04-22-seattle',\n",
       " 'structured-2018-06-17-anaheim']"
      ]
     },
     "execution_count": 10,
     "metadata": {},
     "output_type": "execute_result"
    }
   ],
   "source": [
    "localpath = os.path.join(datadir, 'structured-2018-06-17-anaheim')\n",
    "\n",
    "hdfspath = '/Users/vagrant/structured-2018-06-17-anaheim'\n",
    "\n",
    "client.upload(hdfspath, localpath)\n",
    "\n",
    "client.list('/Users/vagrant')"
   ]
  },
  {
   "cell_type": "code",
   "execution_count": 11,
   "metadata": {},
   "outputs": [
    {
     "data": {
      "text/plain": [
       "['mydf.csv',\n",
       " 'structured-2018-01-14-neworleans',\n",
       " 'structured-2018-03-11-atlanta',\n",
       " 'structured-2018-04-01-birmingham',\n",
       " 'structured-2018-04-08-proleague1',\n",
       " 'structured-2018-04-19-relegation',\n",
       " 'structured-2018-04-22-seattle',\n",
       " 'structured-2018-06-17-anaheim',\n",
       " 'structured-2018-07-29-proleague2']"
      ]
     },
     "execution_count": 11,
     "metadata": {},
     "output_type": "execute_result"
    }
   ],
   "source": [
    "localpath = os.path.join(datadir, 'structured-2018-07-29-proleague2')\n",
    "\n",
    "hdfspath = '/Users/vagrant/structured-2018-07-29-proleague2'\n",
    "\n",
    "client.upload(hdfspath, localpath)\n",
    "\n",
    "client.list('/Users/vagrant')"
   ]
  },
  {
   "cell_type": "code",
   "execution_count": 12,
   "metadata": {},
   "outputs": [
    {
     "data": {
      "text/plain": [
       "['mydf.csv',\n",
       " 'structured-2018-01-14-neworleans',\n",
       " 'structured-2018-03-11-atlanta',\n",
       " 'structured-2018-04-01-birmingham',\n",
       " 'structured-2018-04-08-proleague1',\n",
       " 'structured-2018-04-19-relegation',\n",
       " 'structured-2018-04-22-seattle',\n",
       " 'structured-2018-06-17-anaheim',\n",
       " 'structured-2018-07-29-proleague2',\n",
       " 'structured-2018-08-19-champs']"
      ]
     },
     "execution_count": 12,
     "metadata": {},
     "output_type": "execute_result"
    }
   ],
   "source": [
    "localpath = os.path.join(datadir, 'structured-2018-08-19-champs')\n",
    "\n",
    "hdfspath = '/Users/vagrant/structured-2018-08-19-champs'\n",
    "\n",
    "client.upload(hdfspath, localpath)\n",
    "\n",
    "client.list('/Users/vagrant')"
   ]
  },
  {
   "cell_type": "code",
   "execution_count": null,
   "metadata": {},
   "outputs": [],
   "source": []
  }
 ],
 "metadata": {
  "kernelspec": {
   "display_name": "Python 3",
   "language": "python",
   "name": "python3"
  },
  "language_info": {
   "codemirror_mode": {
    "name": "ipython",
    "version": 3
   },
   "file_extension": ".py",
   "mimetype": "text/x-python",
   "name": "python",
   "nbconvert_exporter": "python",
   "pygments_lexer": "ipython3",
   "version": "3.7.2"
  }
 },
 "nbformat": 4,
 "nbformat_minor": 2
}
